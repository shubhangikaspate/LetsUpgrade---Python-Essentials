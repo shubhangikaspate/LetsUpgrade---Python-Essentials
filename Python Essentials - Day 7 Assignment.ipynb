{
 "cells": [
  {
   "cell_type": "markdown",
   "metadata": {},
   "source": [
    "# Assignment Day 7 | 28th July 2020\n"
   ]
  },
  {
   "cell_type": "markdown",
   "metadata": {},
   "source": [
    "# Question 1 :\n",
    "\n",
    "Use the dictionary,\n",
    "port1 = {21: \"FTP\", 22:\"SSH\", 23: \"telnet\", 80: \"http\"},\n",
    "and make a new dictionary in which keys become values and values become keys,\n",
    "as shown: Port2 = {“FTP\":21, \"SSH\":22, “telnet\":23,\"http\": 80}\n"
   ]
  },
  {
   "cell_type": "code",
   "execution_count": 2,
   "metadata": {},
   "outputs": [
    {
     "name": "stdout",
     "output_type": "stream",
     "text": [
      "{'FTP': 21, 'SSH': 22, 'telnet': 23, 'http': 80}\n"
     ]
    }
   ],
   "source": [
    "# A. Swapping of keys and values in dictionary\n",
    "\n",
    "port1={21:\"FTP\",22:\"SSH\",23:\"telnet\",80:\"http\"}\n",
    "port2={}\n",
    "for k,v in port1.items():\n",
    "    port2[v]=k\n",
    "print(port2)"
   ]
  },
  {
   "cell_type": "code",
   "execution_count": 3,
   "metadata": {},
   "outputs": [
    {
     "name": "stdout",
     "output_type": "stream",
     "text": [
      "{'FTP': 21, 'SSH': 22, 'telnet': 23, 'http': 80}\n"
     ]
    }
   ],
   "source": [
    "# B. Swapping of keys and values in dictionary comprehension\n",
    "\n",
    "port1 = {21:\"FTP\",22:\"SSH\",23:\"telnet\",80:\"http\"}\n",
    "port2 = {val:key for (key,val) in port1.items()}\n",
    "print(port2)\n"
   ]
  },
  {
   "cell_type": "markdown",
   "metadata": {},
   "source": [
    "_________"
   ]
  },
  {
   "cell_type": "markdown",
   "metadata": {},
   "source": [
    "# Question 2 :\n",
    "Take a list of tuple as shown below.\n",
    "[(1,2), (3,4), (5,6),(4,5)]\n",
    "Make a new list which contains the sum of the number of tuples.\n",
    "For example\n",
    "Input\n",
    "[(1,2), (3,4), (5,6)]\n",
    "Output\n",
    "[3, 7, 11]\n",
    "\n"
   ]
  },
  {
   "cell_type": "code",
   "execution_count": 5,
   "metadata": {},
   "outputs": [
    {
     "name": "stdout",
     "output_type": "stream",
     "text": [
      "[3, 7, 11, 9]\n"
     ]
    }
   ],
   "source": [
    "list1=[(1,2),(3,4),(5,6),(4,5)]\n",
    "list2=[]\n",
    "for i in list1:\n",
    "    sum=0\n",
    "    for j in i:\n",
    "        sum+=j\n",
    "    list2.append(sum)\n",
    "print(list2)"
   ]
  },
  {
   "cell_type": "markdown",
   "metadata": {},
   "source": [
    "_________________"
   ]
  },
  {
   "cell_type": "markdown",
   "metadata": {},
   "source": [
    "# Question 3:\n",
    "Take a list as shown below\n",
    "[(1,2,3), [1,2], ['a','hit','less']]\n",
    "The List contains tuple and lists. Make the elements of inner lists and tuples to outer list"
   ]
  },
  {
   "cell_type": "code",
   "execution_count": 12,
   "metadata": {},
   "outputs": [
    {
     "name": "stdout",
     "output_type": "stream",
     "text": [
      "Original list:  [(1, 2, 3), [1, 2], ['a', 'hit', 'less']]\n",
      "Outer list:  [(1, 2, 3), 1, 2, 'a', 'hit', 'less']\n"
     ]
    }
   ],
   "source": [
    "#Making elements of inner list and tuples to outer list \n",
    "\n",
    "list_1 = [(1, 2,3),[1,2],['a','hit','less']] \n",
    "\n",
    "list_2 = [] \n",
    "  \n",
    "# function used for removing nested lists in python\n",
    "\n",
    "def removeNesting(list_1): \n",
    "    for i in list_1: \n",
    "        if type(i) == list: \n",
    "            removeNesting(i) \n",
    "        else: \n",
    "            list_2.append(i) \n",
    "            \n",
    "print ('Original list: ', list_1) \n",
    "removeNesting(list_1) \n",
    "print ('Outer list: ', list_2) "
   ]
  },
  {
   "cell_type": "code",
   "execution_count": 14,
   "metadata": {},
   "outputs": [
    {
     "name": "stdout",
     "output_type": "stream",
     "text": [
      "[1, 2, 3, 1, 2, 'a', 'hit', 'less']\n"
     ]
    }
   ],
   "source": [
    "list1=[(1,2,3),[1,2],['a','hit','less']]\n",
    "list2=[]\n",
    "for i in list1:\n",
    "    for j in i:\n",
    "        list2.append(j)\n",
    "print(list2)"
   ]
  },
  {
   "cell_type": "markdown",
   "metadata": {},
   "source": [
    "_____________"
   ]
  }
 ],
 "metadata": {
  "kernelspec": {
   "display_name": "Python 3",
   "language": "python",
   "name": "python3"
  },
  "language_info": {
   "codemirror_mode": {
    "name": "ipython",
    "version": 3
   },
   "file_extension": ".py",
   "mimetype": "text/x-python",
   "name": "python",
   "nbconvert_exporter": "python",
   "pygments_lexer": "ipython3",
   "version": "3.7.4"
  }
 },
 "nbformat": 4,
 "nbformat_minor": 2
}
