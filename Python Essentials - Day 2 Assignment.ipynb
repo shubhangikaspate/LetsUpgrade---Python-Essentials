{
 "cells": [
  {
   "cell_type": "markdown",
   "metadata": {},
   "source": [
    "# Python Essentials - Day 2 Assignment"
   ]
  },
  {
   "cell_type": "markdown",
   "metadata": {},
   "source": [
    "Basic Python Syntax"
   ]
  },
  {
   "cell_type": "code",
   "execution_count": 1,
   "metadata": {},
   "outputs": [
    {
     "name": "stdout",
     "output_type": "stream",
     "text": [
      "Hello Python\n"
     ]
    }
   ],
   "source": [
    "print(\"Hello Python\")"
   ]
  },
  {
   "cell_type": "code",
   "execution_count": 2,
   "metadata": {},
   "outputs": [
    {
     "name": "stdout",
     "output_type": "stream",
     "text": [
      "Hello\\python\n",
      "Hello \\ python\n"
     ]
    }
   ],
   "source": [
    "# Formatting python syntax Using\n",
    "\n",
    "\n",
    "# Back Slash - \"\\\" Used for continuation\n",
    "\n",
    "print(\"Hello\\python\")\n",
    "print(\"Hello \\ python\")"
   ]
  },
  {
   "cell_type": "code",
   "execution_count": 3,
   "metadata": {},
   "outputs": [
    {
     "name": "stdout",
     "output_type": "stream",
     "text": [
      "Let's Upgrade\n"
     ]
    }
   ],
   "source": [
    "# \\ - back slash with single quotes while using 's - writing in english language\n",
    "\n",
    "print('Let\\'s Upgrade')\n"
   ]
  },
  {
   "cell_type": "code",
   "execution_count": 4,
   "metadata": {},
   "outputs": [
    {
     "name": "stdout",
     "output_type": "stream",
     "text": [
      "Hello\n",
      "World\n"
     ]
    }
   ],
   "source": [
    "# \\n  - for new line (New Line Creator / Line separater/ Enter)\n",
    "\n",
    "print('Hello\\nWorld')"
   ]
  },
  {
   "cell_type": "code",
   "execution_count": 5,
   "metadata": {},
   "outputs": [
    {
     "name": "stdout",
     "output_type": "stream",
     "text": [
      "Hello\tPython\n"
     ]
    }
   ],
   "source": [
    "# \\t - tab for space\n",
    "\n",
    "print(\"Hello\\tPython\")"
   ]
  },
  {
   "cell_type": "code",
   "execution_count": 6,
   "metadata": {},
   "outputs": [
    {
     "name": "stdout",
     "output_type": "stream",
     "text": [
      "Hello\u0007\n"
     ]
    }
   ],
   "source": [
    "# \\a  - Used as alaram                              # Not working in Jupyter Notebook\n",
    "\n",
    "print(\"Hello\\a\")"
   ]
  },
  {
   "cell_type": "code",
   "execution_count": 7,
   "metadata": {},
   "outputs": [
    {
     "name": "stdout",
     "output_type": "stream",
     "text": [
      "Welcome to the World of Python \n",
      "\n"
     ]
    }
   ],
   "source": [
    "# Formatting python syntax Using - Triple Quotes (\"\"\"_______ \"\"\"     or     '''________''')\n",
    "\n",
    "\n",
    "\n",
    "print(\"\"\"Welcome to the World of Python \n",
    "\"\"\")"
   ]
  },
  {
   "cell_type": "code",
   "execution_count": 8,
   "metadata": {},
   "outputs": [
    {
     "data": {
      "text/plain": [
       "' (\\\\_/)\\n( •,•)\\n(\")_(\") '"
      ]
     },
     "execution_count": 8,
     "metadata": {},
     "output_type": "execute_result"
    }
   ],
   "source": [
    "# Triple Quotes 2\n",
    "\"\"\" (\\_/)\n",
    "( •,•)\n",
    "(\")_(\") \"\"\"\n",
    "\n",
    "\n"
   ]
  },
  {
   "cell_type": "code",
   "execution_count": 9,
   "metadata": {},
   "outputs": [
    {
     "name": "stdout",
     "output_type": "stream",
     "text": [
      "Hello World\n",
      "Hello World\n",
      "Python's World\n"
     ]
    }
   ],
   "source": [
    "# Quotes ( \" \",   '  ')\n",
    "\n",
    "print(\"Hello World\")\n",
    "\n",
    "print('Hello World')\n",
    "\n",
    "print(\"Python's World\")\n",
    "\n"
   ]
  },
  {
   "cell_type": "markdown",
   "metadata": {},
   "source": [
    "python Variables and Assignment statement"
   ]
  },
  {
   "cell_type": "code",
   "execution_count": 10,
   "metadata": {},
   "outputs": [
    {
     "name": "stdout",
     "output_type": "stream",
     "text": [
      "Name of Student is Abhimanyu Age:  21 Marks: 97.89\n"
     ]
    }
   ],
   "source": [
    "# Formatting python syntax\n",
    "\n",
    "Name = \"Abhimanyu\"\n",
    "Age = 21\n",
    "Marks = 97.89\n",
    "\n",
    "print(\"Name of Student is\", Name, \"Age: \", Age, \"Marks:\" , Marks)"
   ]
  },
  {
   "cell_type": "code",
   "execution_count": 11,
   "metadata": {},
   "outputs": [
    {
     "name": "stdout",
     "output_type": "stream",
     "text": [
      "Name of Student is Abhimanyu Age is   21 and marks are=    97.89  \n"
     ]
    }
   ],
   "source": [
    "# Formatting python syntaxusing %s %f %d\n",
    "\n",
    "Name = \"Abhimanyu\"\n",
    "Age = 21\n",
    "Marks = 97.8946\n",
    "\n",
    "print(\"Name of Student is %6s Age is %4d and marks are= %8.2f  \"%(Name,Age,Marks))"
   ]
  },
  {
   "cell_type": "code",
   "execution_count": 12,
   "metadata": {},
   "outputs": [
    {
     "name": "stdout",
     "output_type": "stream",
     "text": [
      "Name of Student Abhimanyu the Age is 21 and the Marks are 97.89 \n"
     ]
    }
   ],
   "source": [
    "# Formatting python syntax using Curly braces {}\n",
    "\n",
    "Name = \"Abhimanyu\"\n",
    "Age = 21\n",
    "Marks = 97.89\n",
    "\n",
    "print(f\"Name of Student {Name} the Age is {Age} and the Marks are {Marks} \" )"
   ]
  },
  {
   "cell_type": "markdown",
   "metadata": {},
   "source": [
    "______________"
   ]
  },
  {
   "cell_type": "markdown",
   "metadata": {},
   "source": [
    "## Python Variables\n",
    "\n",
    "\n",
    "1. Variable means linking a data with a name\n",
    "2. According to the data type interpreter reserves memory space\n",
    "3. Variable refers to a memory location that contains the data\n"
   ]
  },
  {
   "cell_type": "markdown",
   "metadata": {},
   "source": [
    "###### Rules to Define a Variable:\n",
    "\n",
    "1. A keyword cannot be used as variable. e.g. \"if\", \"def\", \"for\", etc.\n",
    "2. A variable can contain letters (Upper / lower case), numbers, and underscore.\n",
    "3. Python is case sensitive language, hence variables are also case sensitive.\n",
    "4. A vaiable cannot start with a number.\n",
    "5. A variable is assigned to a data by using assignment operators.\n"
   ]
  },
  {
   "cell_type": "code",
   "execution_count": 13,
   "metadata": {},
   "outputs": [
    {
     "ename": "SyntaxError",
     "evalue": "invalid syntax (<ipython-input-13-f3a7c99f43f5>, line 4)",
     "output_type": "error",
     "traceback": [
      "\u001b[1;36m  File \u001b[1;32m\"<ipython-input-13-f3a7c99f43f5>\"\u001b[1;36m, line \u001b[1;32m4\u001b[0m\n\u001b[1;33m    if = 20\u001b[0m\n\u001b[1;37m       ^\u001b[0m\n\u001b[1;31mSyntaxError\u001b[0m\u001b[1;31m:\u001b[0m invalid syntax\n"
     ]
    }
   ],
   "source": [
    "# Application of rules:\n",
    "# 1. A keyword cannot be used as variable. e.g. \"if\", \"def\", \"for\", etc.\n",
    "\n",
    "if = 20\n",
    "def= \"apple\"\n",
    "for=(\"Apple, Mac, Windows, 8.3.2 \")\n",
    "print(if)\n",
    "print(def)\n",
    "print(for)"
   ]
  },
  {
   "cell_type": "code",
   "execution_count": 14,
   "metadata": {},
   "outputs": [
    {
     "name": "stdout",
     "output_type": "stream",
     "text": [
      "21\n",
      "Apple\n",
      "('Apple', 23.6, 32)\n"
     ]
    }
   ],
   "source": [
    "# 2. A variable can contain letters (Upper / lower case), numbers, and underscore.\n",
    "\n",
    "A=21\n",
    "num1= \"Apple\"\n",
    "_45= (\"Apple\",23.60, 32)\n",
    "\n",
    "print(A)\n",
    "print(num1)\n",
    "print(_45)\n"
   ]
  },
  {
   "cell_type": "code",
   "execution_count": 15,
   "metadata": {},
   "outputs": [
    {
     "ename": "NameError",
     "evalue": "name 'a' is not defined",
     "output_type": "error",
     "traceback": [
      "\u001b[1;31m---------------------------------------------------------------------------\u001b[0m",
      "\u001b[1;31mNameError\u001b[0m                                 Traceback (most recent call last)",
      "\u001b[1;32m<ipython-input-15-84fc98d94446>\u001b[0m in \u001b[0;36m<module>\u001b[1;34m\u001b[0m\n\u001b[0;32m      3\u001b[0m \u001b[0mA\u001b[0m\u001b[1;33m=\u001b[0m\u001b[1;36m21\u001b[0m\u001b[1;33m\u001b[0m\u001b[1;33m\u001b[0m\u001b[0m\n\u001b[0;32m      4\u001b[0m \u001b[1;33m\u001b[0m\u001b[0m\n\u001b[1;32m----> 5\u001b[1;33m \u001b[0mprint\u001b[0m\u001b[1;33m(\u001b[0m\u001b[0ma\u001b[0m\u001b[1;33m)\u001b[0m\u001b[1;33m\u001b[0m\u001b[1;33m\u001b[0m\u001b[0m\n\u001b[0m",
      "\u001b[1;31mNameError\u001b[0m: name 'a' is not defined"
     ]
    }
   ],
   "source": [
    "# 3. Python is case sensitive language, hence variables are also case sensitive.\n",
    "\n",
    "A=21\n",
    "\n",
    "print(a)"
   ]
  },
  {
   "cell_type": "code",
   "execution_count": 16,
   "metadata": {},
   "outputs": [
    {
     "ename": "SyntaxError",
     "evalue": "can't assign to literal (<ipython-input-16-88c7642cdce9>, line 3)",
     "output_type": "error",
     "traceback": [
      "\u001b[1;36m  File \u001b[1;32m\"<ipython-input-16-88c7642cdce9>\"\u001b[1;36m, line \u001b[1;32m3\u001b[0m\n\u001b[1;33m    47= \"Python is case sensitive language\"\u001b[0m\n\u001b[1;37m                                           ^\u001b[0m\n\u001b[1;31mSyntaxError\u001b[0m\u001b[1;31m:\u001b[0m can't assign to literal\n"
     ]
    }
   ],
   "source": [
    "# 4. A vaiable cannot start with a number.\n",
    "\n",
    "47= \"Python is case sensitive language\"\n",
    "\n",
    "print(47)"
   ]
  },
  {
   "cell_type": "code",
   "execution_count": 17,
   "metadata": {},
   "outputs": [
    {
     "name": "stdout",
     "output_type": "stream",
     "text": [
      "10\n",
      "20\n",
      "10\n"
     ]
    },
    {
     "data": {
      "text/plain": [
       "8791198769840"
      ]
     },
     "execution_count": 17,
     "metadata": {},
     "output_type": "execute_result"
    }
   ],
   "source": [
    "# Python Assignment statement\n",
    "x=10\n",
    "y=20\n",
    "z=10\n",
    "print(x)\n",
    "print(y)\n",
    "print(z)\n",
    "\n",
    "\n",
    "id(x)\n",
    "\n"
   ]
  },
  {
   "cell_type": "code",
   "execution_count": 18,
   "metadata": {},
   "outputs": [
    {
     "data": {
      "text/plain": [
       "8791198769840"
      ]
     },
     "execution_count": 18,
     "metadata": {},
     "output_type": "execute_result"
    }
   ],
   "source": [
    "id(y)\n",
    "id(z)"
   ]
  },
  {
   "cell_type": "markdown",
   "metadata": {},
   "source": [
    "__________________"
   ]
  },
  {
   "cell_type": "markdown",
   "metadata": {},
   "source": [
    "## Python Operators\n",
    "\n",
    "1. Arithematic Operators\n",
    "2. Comparison operators\n",
    "3. Assignment operators\n",
    "4. Bitwise Operators\n",
    "5. Logical operators\n",
    "6. Membership operators\n",
    "7. Identity Operators"
   ]
  },
  {
   "cell_type": "markdown",
   "metadata": {},
   "source": [
    "1. Arithematic Operators:\n",
    "\n",
    "Operator\t  Name\t\n",
    "1. '+'\t      Addition\t\n",
    "2. '-'\t      Subtraction\n",
    "3. '*'\t      Multiplication\t\n",
    "4. /\t      Division\t\n",
    "5. %          Modulus\t\n",
    "6. **\t      Exponentiation\t\n",
    "7. //\t      Floor division\t\n"
   ]
  },
  {
   "cell_type": "code",
   "execution_count": 19,
   "metadata": {},
   "outputs": [
    {
     "name": "stdout",
     "output_type": "stream",
     "text": [
      "45\n"
     ]
    }
   ],
   "source": [
    "# 1. Addition\n",
    "\n",
    "x = 15\n",
    "y = 30\n",
    "\n",
    "print(x + y)"
   ]
  },
  {
   "cell_type": "code",
   "execution_count": 20,
   "metadata": {},
   "outputs": [
    {
     "name": "stdout",
     "output_type": "stream",
     "text": [
      "20\n"
     ]
    }
   ],
   "source": [
    "# 2. -  Subtraction\n",
    "\n",
    "x = 50\n",
    "y = 30\n",
    "\n",
    "print(x - y)"
   ]
  },
  {
   "cell_type": "code",
   "execution_count": 21,
   "metadata": {},
   "outputs": [
    {
     "name": "stdout",
     "output_type": "stream",
     "text": [
      "40\n"
     ]
    }
   ],
   "source": [
    "# 3. *   Multiplication\n",
    "\n",
    "x = 10\n",
    "y = 4\n",
    "\n",
    "print(x * y)\n"
   ]
  },
  {
   "cell_type": "code",
   "execution_count": 22,
   "metadata": {},
   "outputs": [
    {
     "name": "stdout",
     "output_type": "stream",
     "text": [
      "4.0\n"
     ]
    }
   ],
   "source": [
    "# 4. /    Division\n",
    "\n",
    "x = 12\n",
    "y = 3\n",
    "\n",
    "print(x / y)"
   ]
  },
  {
   "cell_type": "code",
   "execution_count": 23,
   "metadata": {},
   "outputs": [
    {
     "name": "stdout",
     "output_type": "stream",
     "text": [
      "1\n"
     ]
    }
   ],
   "source": [
    "# 5. %  Modulus\n",
    "\n",
    "x = 5\n",
    "y = 2\n",
    "\n",
    "print(x % y)"
   ]
  },
  {
   "cell_type": "code",
   "execution_count": 24,
   "metadata": {},
   "outputs": [
    {
     "name": "stdout",
     "output_type": "stream",
     "text": [
      "16\n"
     ]
    }
   ],
   "source": [
    "# 6. ** Exponentiation\n",
    "\n",
    "x = 2\n",
    "y = 4\n",
    "\n",
    "print(x ** y) #same as 2*2*2*2\n"
   ]
  },
  {
   "cell_type": "code",
   "execution_count": 25,
   "metadata": {},
   "outputs": [
    {
     "name": "stdout",
     "output_type": "stream",
     "text": [
      "7\n"
     ]
    }
   ],
   "source": [
    "# 7. // Floor Division\n",
    "\n",
    "x = 15\n",
    "y = 2\n",
    "\n",
    "print(x // y)\n"
   ]
  },
  {
   "cell_type": "markdown",
   "metadata": {},
   "source": [
    "________"
   ]
  },
  {
   "attachments": {},
   "cell_type": "markdown",
   "metadata": {},
   "source": [
    "2. Assignment operators\n",
    "\n",
    "Operator\n",
    "\n",
    "1. =\n",
    "2. +=\n",
    "3. -=\n",
    "4. *=\n",
    "5. /=\n",
    "6. %=\n",
    "7. //=\n",
    "8. **=\n",
    "9. &=\n",
    "10. |=\n",
    "11. ^=\n",
    "12. '>>='\n",
    "13. '<<='\n"
   ]
  },
  {
   "cell_type": "code",
   "execution_count": 26,
   "metadata": {},
   "outputs": [
    {
     "name": "stdout",
     "output_type": "stream",
     "text": [
      "50\n"
     ]
    }
   ],
   "source": [
    "# 1.   =  operator\n",
    "\n",
    "x = 50\n",
    "\n",
    "print(x)\n"
   ]
  },
  {
   "cell_type": "code",
   "execution_count": 27,
   "metadata": {},
   "outputs": [
    {
     "name": "stdout",
     "output_type": "stream",
     "text": [
      "80\n"
     ]
    }
   ],
   "source": [
    "# 2. +=\n",
    "\n",
    "x = 50\n",
    "\n",
    "x += 30\n",
    "\n",
    "print(x)\n"
   ]
  },
  {
   "cell_type": "code",
   "execution_count": 28,
   "metadata": {},
   "outputs": [
    {
     "name": "stdout",
     "output_type": "stream",
     "text": [
      "20\n"
     ]
    }
   ],
   "source": [
    "# 3. -=\n",
    "\n",
    "x = 50\n",
    "\n",
    "x -= 30\n",
    "\n",
    "print(x)"
   ]
  },
  {
   "cell_type": "code",
   "execution_count": 29,
   "metadata": {},
   "outputs": [
    {
     "name": "stdout",
     "output_type": "stream",
     "text": [
      "45\n"
     ]
    }
   ],
   "source": [
    "# 4. *=\n",
    "\n",
    "x = 15\n",
    "\n",
    "x *= 3\n",
    "\n",
    "print(x)"
   ]
  },
  {
   "cell_type": "code",
   "execution_count": 30,
   "metadata": {},
   "outputs": [
    {
     "name": "stdout",
     "output_type": "stream",
     "text": [
      "5.0\n"
     ]
    }
   ],
   "source": [
    "# 5. /=\n",
    "\n",
    "x = 15\n",
    "\n",
    "x /= 3\n",
    "\n",
    "print(x)"
   ]
  },
  {
   "cell_type": "code",
   "execution_count": 31,
   "metadata": {},
   "outputs": [
    {
     "name": "stdout",
     "output_type": "stream",
     "text": [
      "2\n"
     ]
    }
   ],
   "source": [
    "# 6. %=\n",
    "\n",
    "x = 5\n",
    "\n",
    "x%=3\n",
    "\n",
    "print(x)\n"
   ]
  },
  {
   "cell_type": "code",
   "execution_count": 32,
   "metadata": {},
   "outputs": [
    {
     "name": "stdout",
     "output_type": "stream",
     "text": [
      "1\n"
     ]
    }
   ],
   "source": [
    "# 7. //=\n",
    "\n",
    "\n",
    "x = 5\n",
    "\n",
    "x//=3\n",
    "\n",
    "print(x)\n"
   ]
  },
  {
   "cell_type": "code",
   "execution_count": 33,
   "metadata": {},
   "outputs": [
    {
     "name": "stdout",
     "output_type": "stream",
     "text": [
      "125\n"
     ]
    }
   ],
   "source": [
    "# 8. **=\n",
    "\n",
    "x = 5\n",
    "\n",
    "x **= 3\n",
    "\n",
    "print(x)"
   ]
  },
  {
   "cell_type": "code",
   "execution_count": 34,
   "metadata": {},
   "outputs": [
    {
     "name": "stdout",
     "output_type": "stream",
     "text": [
      "2\n"
     ]
    }
   ],
   "source": [
    "# 9. &=\n",
    "x = 10\n",
    "\n",
    "x &= 6\n",
    "\n",
    "print(x)"
   ]
  },
  {
   "cell_type": "code",
   "execution_count": 35,
   "metadata": {},
   "outputs": [
    {
     "name": "stdout",
     "output_type": "stream",
     "text": [
      "7\n"
     ]
    }
   ],
   "source": [
    "# 10. |=     \n",
    "\n",
    "x = 5\n",
    "\n",
    "x |= 3\n",
    "\n",
    "print(x)\n"
   ]
  },
  {
   "cell_type": "code",
   "execution_count": 36,
   "metadata": {},
   "outputs": [
    {
     "name": "stdout",
     "output_type": "stream",
     "text": [
      "6\n"
     ]
    }
   ],
   "source": [
    "# 11. ^=\n",
    "\n",
    "x = 5\n",
    "\n",
    "x ^= 3\n",
    "\n",
    "print(x)\n"
   ]
  },
  {
   "cell_type": "code",
   "execution_count": 37,
   "metadata": {},
   "outputs": [
    {
     "name": "stdout",
     "output_type": "stream",
     "text": [
      "0\n"
     ]
    }
   ],
   "source": [
    "# 12. >>=         # same as  x = x >> 3\n",
    "\n",
    "x = 5\n",
    "\n",
    "x >>= 3\n",
    "\n",
    "print(x)\n",
    "\n"
   ]
  },
  {
   "cell_type": "code",
   "execution_count": 38,
   "metadata": {},
   "outputs": [
    {
     "name": "stdout",
     "output_type": "stream",
     "text": [
      "40\n"
     ]
    }
   ],
   "source": [
    "# 13. <<=        #  Same as x = x << 3\n",
    "\n",
    "x = 5\n",
    "\n",
    "x <<= 3\n",
    "\n",
    "print(x)\n"
   ]
  },
  {
   "cell_type": "markdown",
   "metadata": {},
   "source": [
    "_________________________"
   ]
  },
  {
   "cell_type": "markdown",
   "metadata": {},
   "source": [
    "3. Comparison operators\n",
    "\n",
    "Operator\tName\t\n",
    "1. ==\tEqual\t\n",
    "2. !=\tNot equal\t\n",
    "3. '>'\tGreater than\t\n",
    "4. '<'\tLess than\t\n",
    "5. '>='\tGreater than or equal to\t\n",
    "6. '<='\tLess than or equal to\t\n"
   ]
  },
  {
   "cell_type": "code",
   "execution_count": 39,
   "metadata": {},
   "outputs": [
    {
     "name": "stdout",
     "output_type": "stream",
     "text": [
      "False\n"
     ]
    }
   ],
   "source": [
    "# 1. == - Equal operator\n",
    "\n",
    "x = 15\n",
    "y = 30\n",
    "\n",
    "print(x == y)"
   ]
  },
  {
   "cell_type": "code",
   "execution_count": 40,
   "metadata": {},
   "outputs": [
    {
     "name": "stdout",
     "output_type": "stream",
     "text": [
      "True\n"
     ]
    }
   ],
   "source": [
    "# 2. !=   Not Equal\n",
    "\n",
    "x = 15\n",
    "y = 30\n",
    "\n",
    "print(x != y)"
   ]
  },
  {
   "cell_type": "code",
   "execution_count": 41,
   "metadata": {},
   "outputs": [
    {
     "name": "stdout",
     "output_type": "stream",
     "text": [
      "False\n",
      "True\n"
     ]
    }
   ],
   "source": [
    "# 3. >  Greater than operator\n",
    "\n",
    "x = 15\n",
    "y = 30\n",
    "\n",
    "print(x > y)\n",
    "print(y > x)\n"
   ]
  },
  {
   "cell_type": "code",
   "execution_count": 42,
   "metadata": {},
   "outputs": [
    {
     "name": "stdout",
     "output_type": "stream",
     "text": [
      "True\n",
      "False\n"
     ]
    }
   ],
   "source": [
    "# 4. <  Less than operator\n",
    "x = 15\n",
    "y = 30\n",
    "\n",
    "print(x < y)\n",
    "print(y < x)"
   ]
  },
  {
   "cell_type": "code",
   "execution_count": 43,
   "metadata": {},
   "outputs": [
    {
     "name": "stdout",
     "output_type": "stream",
     "text": [
      "True\n"
     ]
    }
   ],
   "source": [
    "# 5. >=    Greater than or equal to\t\n",
    "x = 50\n",
    "y = 30\n",
    "\n",
    "print(x >= y)\n"
   ]
  },
  {
   "cell_type": "code",
   "execution_count": 44,
   "metadata": {},
   "outputs": [
    {
     "name": "stdout",
     "output_type": "stream",
     "text": [
      "False\n"
     ]
    }
   ],
   "source": [
    "# 6. <=   Less than or equal to\n",
    "\n",
    "x = 50\n",
    "y = 30\n",
    "\n",
    "print(x <= y)"
   ]
  },
  {
   "cell_type": "markdown",
   "metadata": {},
   "source": [
    "_________________"
   ]
  },
  {
   "cell_type": "markdown",
   "metadata": {},
   "source": [
    "4. Logical operators\n",
    "\n",
    "Operator\tDescription\n",
    "1. 'and' \t    Returns True if both statements are true\n",
    "2. 'or'\t    Returns True if one of the statements is true\n",
    "3. 'not'\t    Reverse the result, returns False if the result is true\n"
   ]
  },
  {
   "cell_type": "code",
   "execution_count": 45,
   "metadata": {},
   "outputs": [
    {
     "name": "stdout",
     "output_type": "stream",
     "text": [
      "True\n"
     ]
    }
   ],
   "source": [
    "# 1. and - operator\n",
    "\n",
    "x = 15\n",
    "\n",
    "print(x > 3 and x < 20)\n",
    "\n"
   ]
  },
  {
   "cell_type": "code",
   "execution_count": 46,
   "metadata": {},
   "outputs": [
    {
     "name": "stdout",
     "output_type": "stream",
     "text": [
      "False\n",
      "True\n"
     ]
    }
   ],
   "source": [
    "#. or - operator\n",
    "\n",
    "x = 15\n",
    "\n",
    "print(x > 30 or x < 4)\n",
    "print(x > 3 or x < 4)"
   ]
  },
  {
   "cell_type": "code",
   "execution_count": 47,
   "metadata": {},
   "outputs": [
    {
     "name": "stdout",
     "output_type": "stream",
     "text": [
      "False\n",
      "True\n"
     ]
    }
   ],
   "source": [
    "# 3. not - operator\n",
    "\n",
    "x = 5\n",
    "\n",
    "print(not(x > 3 and x < 10))\n",
    "\n",
    "print(not(x > 30 or x < 4))"
   ]
  },
  {
   "cell_type": "markdown",
   "metadata": {},
   "source": [
    "______________"
   ]
  },
  {
   "cell_type": "markdown",
   "metadata": {},
   "source": [
    "5. Bitwise Operators\n",
    "\n",
    "\n",
    "Operator\tName\t                Description\n",
    "1. & \t    AND\t                    Sets each bit to 1 if both bits are 1\n",
    "2. |\t    OR\t                    Sets each bit to 1 if one of two bits is 1\n",
    "3. ^\t    XOR\t                    Sets each bit to 1 if only one of two bits is 1\n",
    "4. ~ \t    NOT\t                    Inverts all the bits\n",
    "5. '<<'\t    Zero fill left shift\tShift left by pushing zeros in from the right and let the leftmost bits fall off\n",
    "6. '>>'\t    Signed right shift\t    Shift right by pushing copies of the leftmost bit in from the left, and let the rightmost                                       bits fall off"
   ]
  },
  {
   "cell_type": "code",
   "execution_count": 48,
   "metadata": {},
   "outputs": [
    {
     "name": "stdout",
     "output_type": "stream",
     "text": [
      "0\n"
     ]
    }
   ],
   "source": [
    "# 1. &  -  AND operator\n",
    "\n",
    "x = 120\n",
    "\n",
    "y = 2\n",
    "\n",
    "print(x & y)\n",
    "\n"
   ]
  },
  {
   "cell_type": "code",
   "execution_count": 49,
   "metadata": {},
   "outputs": [
    {
     "name": "stdout",
     "output_type": "stream",
     "text": [
      "122\n"
     ]
    }
   ],
   "source": [
    "# 2. |   - OR operator\n",
    "\n",
    "x = 120\n",
    "\n",
    "y = 2\n",
    "\n",
    "print(x | y)\n",
    "\n"
   ]
  },
  {
   "cell_type": "code",
   "execution_count": 50,
   "metadata": {},
   "outputs": [
    {
     "name": "stdout",
     "output_type": "stream",
     "text": [
      "122\n"
     ]
    }
   ],
   "source": [
    "# 3. ^     - XOR  operator\n",
    "x = 120\n",
    "\n",
    "y = 2\n",
    "\n",
    "print(x ^ y)\n"
   ]
  },
  {
   "cell_type": "code",
   "execution_count": 51,
   "metadata": {},
   "outputs": [
    {
     "name": "stdout",
     "output_type": "stream",
     "text": [
      "-121\n",
      "-3\n"
     ]
    }
   ],
   "source": [
    "# 4. ~     NOT\n",
    "\n",
    "x = 120\n",
    "\n",
    "y = 2\n",
    "\n",
    "print(~x)\n",
    "print(~y)\n",
    "\n"
   ]
  },
  {
   "cell_type": "code",
   "execution_count": 52,
   "metadata": {},
   "outputs": [
    {
     "name": "stdout",
     "output_type": "stream",
     "text": [
      "20\n",
      "-20\n"
     ]
    }
   ],
   "source": [
    "# 5. <<    Zero fill left shift\n",
    "\n",
    "x = 10\n",
    "print(x << 1)\n",
    "\n",
    "\n",
    "y = -10\n",
    "print(y << 1)\n",
    "\n"
   ]
  },
  {
   "cell_type": "code",
   "execution_count": 53,
   "metadata": {},
   "outputs": [
    {
     "name": "stdout",
     "output_type": "stream",
     "text": [
      "5\n",
      "-5\n"
     ]
    }
   ],
   "source": [
    "# 6. >>    Signed right shift\n",
    "\n",
    "x = 10\n",
    "print(x >> 1)\n",
    "\n",
    "\n",
    "y = -10\n",
    "print(y >> 1)\n"
   ]
  },
  {
   "cell_type": "markdown",
   "metadata": {},
   "source": [
    "_________"
   ]
  },
  {
   "cell_type": "markdown",
   "metadata": {},
   "source": [
    "6. Membership operators\n",
    "\n",
    "\n",
    "Operator\t             Description\t\n",
    "1. in \t                 Returns True if a sequence with the specified value is present in the object\t\n",
    "2. not in\t             Returns True if a sequence with the specified value is not present in the object\t"
   ]
  },
  {
   "cell_type": "code",
   "execution_count": 54,
   "metadata": {},
   "outputs": [
    {
     "name": "stdout",
     "output_type": "stream",
     "text": [
      "True\n"
     ]
    }
   ],
   "source": [
    "# 1. in operator\n",
    "\n",
    "x = [\"apple\", \"Mac\", \"Linux\", \"Windows\"]\n",
    "\n",
    "print(\"Mac\" in x)"
   ]
  },
  {
   "cell_type": "code",
   "execution_count": 55,
   "metadata": {},
   "outputs": [
    {
     "name": "stdout",
     "output_type": "stream",
     "text": [
      "False\n",
      "True\n"
     ]
    }
   ],
   "source": [
    "# 2. not in operator\n",
    "\n",
    "x = [\"apple\", \"Mac\", \"Linux\", \"Windows\"]\n",
    "\n",
    "print(\"apple\" not in x)\n",
    "print(\"pineapple\" not in x)"
   ]
  },
  {
   "cell_type": "markdown",
   "metadata": {},
   "source": [
    "7. Identity Operators\n",
    "\n",
    "Operator\t      Description\t\n",
    "1. 'is' \t          Returns True if both variables are the same object\n",
    "2. 'is not'\t      Returns True if both variables are not the same object\n",
    "\n"
   ]
  },
  {
   "cell_type": "code",
   "execution_count": 56,
   "metadata": {},
   "outputs": [
    {
     "name": "stdout",
     "output_type": "stream",
     "text": [
      "True\n"
     ]
    }
   ],
   "source": [
    "# 1. is - operator\n",
    "\n",
    "x = [\"apple\", \"Mac\", \"Linux\", \"Windows\"]\n",
    "y = [\"apple\", \"Mac\", \"Linux\", \"Windows\"]\n",
    "z = x\n",
    "\n",
    "print(x is z)"
   ]
  },
  {
   "cell_type": "code",
   "execution_count": 57,
   "metadata": {},
   "outputs": [
    {
     "name": "stdout",
     "output_type": "stream",
     "text": [
      "False\n"
     ]
    }
   ],
   "source": [
    "# 2. is not - \n",
    "\n",
    "x = [\"apple\", \"Mac\", \"Linux\", \"Windows\"]\n",
    "y = [\"apple\", \"Mac\", \"Linux\", \"Windows\"]\n",
    "z = x\n",
    "\n",
    "print(x is not z)\n",
    "\n",
    "\n"
   ]
  },
  {
   "cell_type": "markdown",
   "metadata": {},
   "source": [
    "___________________"
   ]
  },
  {
   "cell_type": "markdown",
   "metadata": {},
   "source": [
    "***"
   ]
  }
 ],
 "metadata": {
  "kernelspec": {
   "display_name": "Python 3",
   "language": "python",
   "name": "python3"
  },
  "language_info": {
   "codemirror_mode": {
    "name": "ipython",
    "version": 3
   },
   "file_extension": ".py",
   "mimetype": "text/x-python",
   "name": "python",
   "nbconvert_exporter": "python",
   "pygments_lexer": "ipython3",
   "version": "3.7.4"
  }
 },
 "nbformat": 4,
 "nbformat_minor": 2
}
