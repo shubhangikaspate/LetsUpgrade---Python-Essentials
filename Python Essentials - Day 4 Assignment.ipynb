{
 "cells": [
  {
   "cell_type": "markdown",
   "metadata": {},
   "source": [
    "# Assignment Day 4 | 23rd July 2020"
   ]
  },
  {
   "cell_type": "markdown",
   "metadata": {},
   "source": [
    "# Question 1 :\n",
    "\n",
    "Find all occurrence of substring in the given string\n",
    "\n",
    "“what we think we become; we are Python programmer”\n",
    "\n",
    "Print the index values.\n"
   ]
  },
  {
   "cell_type": "code",
   "execution_count": 13,
   "metadata": {},
   "outputs": [
    {
     "name": "stdout",
     "output_type": "stream",
     "text": [
      "Occurrence Count of substring 'we' :  3\n",
      "Index Positions of 'we' are :  [5, 14, 25]\n"
     ]
    }
   ],
   "source": [
    "import re\n",
    "\n",
    "str1 = 'what we think we become; we are Python programmer' \n",
    "\n",
    "regexPattern = re.compile('we')\n",
    "\n",
    "iteratorOfMatchObs = regexPattern.finditer(str1)\n",
    "\n",
    "indexPositions = []\n",
    "\n",
    "count = 0\n",
    "\n",
    "for matchObj in iteratorOfMatchObs:\n",
    "   indexPositions.append(matchObj.start())\n",
    "   count = count + 1\n",
    "print(\"Occurrence Count of substring 'we' : \", count)\n",
    "print(\"Index Positions of 'we' are : \", indexPositions)"
   ]
  },
  {
   "cell_type": "markdown",
   "metadata": {},
   "source": [
    "_________"
   ]
  },
  {
   "cell_type": "markdown",
   "metadata": {},
   "source": [
    "# Question 2 :\n",
    "\n",
    "Explain using\n",
    "\n",
    "islower()\n",
    "\n",
    "isupper()\n",
    "\n",
    "with different kinds of strings."
   ]
  },
  {
   "cell_type": "code",
   "execution_count": 14,
   "metadata": {},
   "outputs": [
    {
     "name": "stdout",
     "output_type": "stream",
     "text": [
      "False\n",
      "False\n",
      "True\n",
      "False\n"
     ]
    }
   ],
   "source": [
    "# A. islower() - It returns True if all the characters are in lower case, otherwise False.\n",
    "            #  - Numbers, symbols and spaces are not checked, it checks only alphabet characters.\n",
    "    \n",
    "    \n",
    "a = 'PYTHON IS AN INTERPRETED, HIGH-LEVEL, GENERAL-PURPOSE PROGRAMMING LANGUAGE.'\n",
    "b = 'Created By Guido Van Rossum And First Released In 1991.'\n",
    "c = \"python's design philosophy emphasizes code readability with its notable use of significant whitespace.\"\n",
    "d = '1378659860000'\n",
    "\n",
    "\n",
    "print(a.islower())\n",
    "print(b.islower())\n",
    "print(c.islower())\n",
    "print(d.islower())\n"
   ]
  },
  {
   "cell_type": "code",
   "execution_count": 15,
   "metadata": {},
   "outputs": [
    {
     "name": "stdout",
     "output_type": "stream",
     "text": [
      "True\n",
      "False\n",
      "False\n",
      "False\n"
     ]
    }
   ],
   "source": [
    "# B. isupper() - The isupper() method returns True if all the characters are in upper case, otherwise False.\n",
    "            #  - Numbers, symbols and spaces are not checked, it checks only alphabet characters.\n",
    "\n",
    "\n",
    "a = 'PYTHON IS AN INTERPRETED, HIGH-LEVEL, GENERAL-PURPOSE PROGRAMMING LANGUAGE.'\n",
    "b = 'Created By Guido Van Rossum And First Released In 1991.'\n",
    "c = \"python's design philosophy emphasizes code readability with its notable use of significant whitespace.\"\n",
    "d = '1378659860000'\n",
    "\n",
    "print(a.isupper())\n",
    "print(b.isupper())\n",
    "print(c.isupper())\n",
    "print(d.isupper())\n",
    "\n"
   ]
  },
  {
   "cell_type": "markdown",
   "metadata": {},
   "source": [
    "_________________"
   ]
  }
 ],
 "metadata": {
  "kernelspec": {
   "display_name": "Python 3",
   "language": "python",
   "name": "python3"
  },
  "language_info": {
   "codemirror_mode": {
    "name": "ipython",
    "version": 3
   },
   "file_extension": ".py",
   "mimetype": "text/x-python",
   "name": "python",
   "nbconvert_exporter": "python",
   "pygments_lexer": "ipython3",
   "version": "3.7.4"
  }
 },
 "nbformat": 4,
 "nbformat_minor": 2
}
