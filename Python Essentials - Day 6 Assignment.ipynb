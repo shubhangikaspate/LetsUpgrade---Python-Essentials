{
 "cells": [
  {
   "cell_type": "markdown",
   "metadata": {},
   "source": [
    "# Assignment Day 6| 27th July 2020"
   ]
  },
  {
   "cell_type": "markdown",
   "metadata": {},
   "source": [
    "# Question 1 :\n",
    "\n",
    "List1 = [1,2,3,4,5,7,8]\n",
    "\n",
    "List2 = [“a”, “b”, “c”, “d”, “e”]\n",
    "\n",
    "Convert to a dictionary in one line code using list comprehension (without using zip method)"
   ]
  },
  {
   "cell_type": "markdown",
   "metadata": {},
   "source": [
    "__Solution :__"
   ]
  },
  {
   "cell_type": "code",
   "execution_count": 1,
   "metadata": {},
   "outputs": [
    {
     "name": "stdout",
     "output_type": "stream",
     "text": [
      "{1: 'a', 2: 'b', 3: 'c', 4: 'd', 5: 'e', 7: 'f'}\n"
     ]
    }
   ],
   "source": [
    "# Solution 1 - a dictionary in one line code using list comprehension\n",
    "\n",
    "List1 = [1,2,3,4,5,7]\n",
    "List2 = [\"a\", \"b\", \"c\", \"d\", \"e\", \"f\"]\n",
    "\n",
    "\n",
    "List3 = {List1[i]: List2[i] for i in range(len(List1))}\n",
    "\n",
    "print(List3)\n",
    "\n"
   ]
  },
  {
   "cell_type": "code",
   "execution_count": 2,
   "metadata": {},
   "outputs": [
    {
     "name": "stdout",
     "output_type": "stream",
     "text": [
      "{1: 'a', 2: 'b', 3: 'c', 4: 'd', 5: 'e', 7: 'f'}\n"
     ]
    }
   ],
   "source": [
    "# Solution 2 - without comprehension\n",
    "\n",
    "\n",
    "List1 = [1,2,3,4,5,7]\n",
    "\n",
    "List2 = [\"a\", \"b\", \"c\", \"d\", \"e\", \"f\"]\n",
    "\n",
    "keys = List1\n",
    "values = List2\n",
    "\n",
    "res = {} \n",
    "for key in keys: \n",
    "    for value in values: \n",
    "        res[key] = value \n",
    "        values.remove(value) \n",
    "        break  \n",
    "print(res)"
   ]
  },
  {
   "cell_type": "code",
   "execution_count": null,
   "metadata": {},
   "outputs": [],
   "source": []
  },
  {
   "cell_type": "code",
   "execution_count": null,
   "metadata": {},
   "outputs": [],
   "source": []
  },
  {
   "cell_type": "code",
   "execution_count": null,
   "metadata": {},
   "outputs": [],
   "source": []
  }
 ],
 "metadata": {
  "kernelspec": {
   "display_name": "Python 3",
   "language": "python",
   "name": "python3"
  },
  "language_info": {
   "codemirror_mode": {
    "name": "ipython",
    "version": 3
   },
   "file_extension": ".py",
   "mimetype": "text/x-python",
   "name": "python",
   "nbconvert_exporter": "python",
   "pygments_lexer": "ipython3",
   "version": "3.7.4"
  }
 },
 "nbformat": 4,
 "nbformat_minor": 2
}
